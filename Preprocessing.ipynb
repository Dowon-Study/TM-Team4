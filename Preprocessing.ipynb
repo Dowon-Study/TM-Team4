{
 "cells": [
  {
   "cell_type": "code",
   "execution_count": null,
   "metadata": {},
   "outputs": [],
   "source": [
    "import pandas as pd\n",
    "import re\n",
    "from pykospacing import Spacing\n",
    "from soynlp.word import WordExtractor\n",
    "from soynlp.tokenizer import LTokenizer\n",
    "from tqdm import tqdm\n",
    "\n",
    "# 1. 불용어 로딩\n",
    "stopwords_df = pd.read_csv('korean_stopwords.csv', header=None)\n",
    "stopwords_set = set(stopwords_df[0].tolist())\n",
    "\n",
    "# 2. 띄어쓰기 보정기\n",
    "spacing = Spacing()\n",
    "\n",
    "# 3. 예시 텍스트 (JSON에서 newsContent 추출했다고 가정)\n",
    "text = \"\"\"사회적 의식을 갖춘 패션브랜드 아이린피셔(Eileen Fishe)와 캐나다 환경NGO 카노피(Canopy)는 삼림생태계 보존을 강화하고, 삼림을 위태롭게하는 패션산업 현실에 경종을 울리기 위해 합동 캠페인을 선언했다.\n",
    "작년에 약 7000만그루의 나무가 섬유제작을 위해 절단됐고, 그 수치는 20년뒤 2배로 증가할 것으로 예상되고 있다.\"\"\"\n",
    "\n",
    "# 4. 띄어쓰기 보정\n",
    "text = spacing(text)\n",
    "\n",
    "# 5. 특수문자/숫자 제거\n",
    "text = re.sub(r'[^ㄱ-ㅎㅏ-ㅣ가-힣\\s]', '', text)\n",
    "text = re.sub(r'\\d+', '', text)\n",
    "\n",
    "# 6. 문장 분리\n",
    "sentences = text.split('\\n')\n",
    "\n",
    "# 7. soynlp 학습 (작은 데이터에선 토크나이저 품질이 낮을 수 있음)\n",
    "word_extractor = WordExtractor()\n",
    "word_extractor.train([text])\n",
    "scores = word_extractor.extract()\n",
    "cohesion_score = {word: score.cohesion_forward for word, score in scores.items()}\n",
    "tokenizer = LTokenizer(scores=cohesion_score)\n",
    "\n",
    "# 8. 문장별 토큰화 + 불용어 제거\n",
    "processed_sentences = []\n",
    "\n",
    "for sentence in tqdm(sentences):\n",
    "    tokens = tokenizer.tokenize(sentence)\n",
    "    filtered = [token for token in tokens if token not in stopwords_set and len(token) > 1]\n",
    "    if filtered:\n",
    "        processed_sentences.append(filtered)\n",
    "\n",
    "# 9. 출력 예시\n",
    "for i, tokens in enumerate(processed_sentences[:5]):\n",
    "    print(f\"[{i+1}] {tokens}\")\n",
    "\n"
   ]
  }
 ],
 "metadata": {
  "kernelspec": {
   "display_name": "base",
   "language": "python",
   "name": "python3"
  },
  "language_info": {
   "codemirror_mode": {
    "name": "ipython",
    "version": 3
   },
   "file_extension": ".py",
   "mimetype": "text/x-python",
   "name": "python",
   "nbconvert_exporter": "python",
   "pygments_lexer": "ipython3",
   "version": "3.8.8"
  }
 },
 "nbformat": 4,
 "nbformat_minor": 2
}
